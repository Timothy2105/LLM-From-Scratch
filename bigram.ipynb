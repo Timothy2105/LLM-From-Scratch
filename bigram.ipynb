{
 "cells": [
  {
   "cell_type": "code",
   "execution_count": 14,
   "metadata": {},
   "outputs": [],
   "source": [
    "import torch\n",
    "import torch.nn as nn\n",
    "from torch.nn import functional as F\n",
    "device = \"mps\" if torch.backends.mps.is_available() and torch.backends.mps.is_built() else device\n",
    "\n",
    "# Hyperparameters\n",
    "batch_size = 32\n",
    "block_size = 8\n",
    "max_iters = 10000\n",
    "eval_interval = 300\n",
    "learning_rate = 1e-3\n",
    "eval_iters = 200"
   ]
  },
  {
   "cell_type": "code",
   "execution_count": 2,
   "metadata": {
    "vscode": {
     "languageId": "plaintext"
    }
   },
   "outputs": [
    {
     "name": "stdout",
     "output_type": "stream",
     "text": [
      "['\\n', ' ', '!', '$', '&', \"'\", ',', '-', '.', '3', ':', ';', '?', 'A', 'B', 'C', 'D', 'E', 'F', 'G', 'H', 'I', 'J', 'K', 'L', 'M', 'N', 'O', 'P', 'Q', 'R', 'S', 'T', 'U', 'V', 'W', 'X', 'Y', 'Z', 'a', 'b', 'c', 'd', 'e', 'f', 'g', 'h', 'i', 'j', 'k', 'l', 'm', 'n', 'o', 'p', 'q', 'r', 's', 't', 'u', 'v', 'w', 'x', 'y', 'z', '\\ufeff']\n"
     ]
    }
   ],
   "source": [
    "# Generate Vocabulary\n",
    "with open('input.txt', 'r', encoding='utf-8') as file:\n",
    "    text = file.read()\n",
    "chars = sorted(set(text))\n",
    "\n",
    "print(chars)\n",
    "vocab_size = len(chars)"
   ]
  },
  {
   "cell_type": "code",
   "execution_count": 3,
   "metadata": {},
   "outputs": [],
   "source": [
    "# Character-Level Tokenizer\n",
    "string_to_int = { ch:i for i, ch in enumerate(chars) }\n",
    "int_to_string = { i:ch for i, ch in enumerate(chars) }\n",
    "\n",
    "encode = lambda s: [ string_to_int[c] for c in s]\n",
    "decode = lambda l: ''.join(int_to_string[i] for i in l)\n",
    "\n",
    "data = torch.tensor(encode(text), dtype=torch.long)\n",
    "# print(data[:100])"
   ]
  },
  {
   "cell_type": "code",
   "execution_count": 4,
   "metadata": {},
   "outputs": [
    {
     "name": "stdout",
     "output_type": "stream",
     "text": [
      "inputs: \n",
      "tensor([[ 1, 39,  1, 61, 53, 56, 42,  1],\n",
      "        [10,  1, 63, 53, 59,  1, 51, 39],\n",
      "        [50,  1, 58, 43, 50, 50,  1, 63],\n",
      "        [ 1, 47, 58,  1, 53, 59, 58,  1],\n",
      "        [25, 17, 30, 15, 33, 32, 21, 27],\n",
      "        [ 1, 47, 58,  1, 58, 53,  1, 51],\n",
      "        [60, 43, 52,  1, 52, 53, 61,  6],\n",
      "        [56,  1, 58, 56, 43, 57, 54, 39],\n",
      "        [57, 46, 43,  1, 40, 56, 47, 52],\n",
      "        [21,  1, 61, 39, 57, 11,  1, 61],\n",
      "        [51,  6,  1, 57, 47, 56,  8,  0],\n",
      "        [ 1, 42, 53, 53, 51, 57,  7, 42],\n",
      "        [56, 39, 52, 45, 43, 50, 63,  1],\n",
      "        [46, 43,  1, 41, 39, 52, 53, 54],\n",
      "        [39, 51, 12,  0,  0, 16, 33, 15],\n",
      "        [ 1, 46, 39, 57, 58,  1, 42, 53],\n",
      "        [34, 21, 26, 15, 17, 26, 32, 21],\n",
      "        [52, 45, 43,  1, 50, 39, 61, 10],\n",
      "        [ 0, 21,  1, 46, 39, 60, 43,  1],\n",
      "        [44, 53, 53, 58,  6,  0, 13, 52],\n",
      "        [53, 58,  1, 41, 46, 53, 53, 57],\n",
      "        [42, 43, 56,  1, 42, 53, 45,  2],\n",
      "        [ 0, 32, 46, 43,  1, 44, 39, 56],\n",
      "        [59, 57, 58,  1, 47, 58,  1, 40],\n",
      "        [ 0, 29, 33, 17, 17, 26,  1, 25],\n",
      "        [63,  1, 41, 53, 52, 44, 43, 57],\n",
      "        [57,  1, 58, 46, 43, 63,  1, 57],\n",
      "        [58,  1, 43, 56, 43,  1, 21,  1],\n",
      "        [58,  1, 54, 39, 57, 57, 43, 57],\n",
      "        [54,  5, 42,  1, 58, 46, 43,  1],\n",
      "        [57,  1, 39, 52, 42,  1, 61, 46],\n",
      "        [ 1, 61, 53, 59, 50, 42,  1, 50]], device='mps:0')\n",
      "targets: \n",
      "tensor([[39,  1, 61, 53, 56, 42,  1, 53],\n",
      "        [ 1, 63, 53, 59,  1, 51, 39, 63],\n",
      "        [ 1, 58, 43, 50, 50,  1, 63, 53],\n",
      "        [47, 58,  1, 53, 59, 58,  1, 44],\n",
      "        [17, 30, 15, 33, 32, 21, 27, 10],\n",
      "        [47, 58,  1, 58, 53,  1, 51, 63],\n",
      "        [43, 52,  1, 52, 53, 61,  6,  0],\n",
      "        [ 1, 58, 56, 43, 57, 54, 39, 57],\n",
      "        [46, 43,  1, 40, 56, 47, 52, 45],\n",
      "        [ 1, 61, 39, 57, 11,  1, 61, 46],\n",
      "        [ 6,  1, 57, 47, 56,  8,  0,  0],\n",
      "        [42, 53, 53, 51, 57,  7, 42, 39],\n",
      "        [39, 52, 45, 43, 50, 63,  1, 58],\n",
      "        [43,  1, 41, 39, 52, 53, 54, 63],\n",
      "        [51, 12,  0,  0, 16, 33, 15, 20],\n",
      "        [46, 39, 57, 58,  1, 42, 53, 52],\n",
      "        [21, 26, 15, 17, 26, 32, 21, 27],\n",
      "        [45, 43,  1, 50, 39, 61, 10,  1],\n",
      "        [21,  1, 46, 39, 60, 43,  1, 41],\n",
      "        [53, 53, 58,  6,  0, 13, 52, 42],\n",
      "        [58,  1, 41, 46, 53, 53, 57, 43],\n",
      "        [43, 56,  1, 42, 53, 45,  2,  0],\n",
      "        [32, 46, 43,  1, 44, 39, 56, 42],\n",
      "        [57, 58,  1, 47, 58,  1, 40, 43],\n",
      "        [29, 33, 17, 17, 26,  1, 25, 13],\n",
      "        [ 1, 41, 53, 52, 44, 43, 57, 57],\n",
      "        [ 1, 58, 46, 43, 63,  1, 57, 39],\n",
      "        [ 1, 43, 56, 43,  1, 21,  1, 50],\n",
      "        [ 1, 54, 39, 57, 57, 43, 57,  1],\n",
      "        [ 5, 42,  1, 58, 46, 43,  1, 54],\n",
      "        [ 1, 39, 52, 42,  1, 61, 46, 53],\n",
      "        [61, 53, 59, 50, 42,  1, 50, 39]], device='mps:0')\n"
     ]
    }
   ],
   "source": [
    "# Train-Test Split\n",
    "n = int(0.8 * len(data))\n",
    "train_data = data[:n]\n",
    "val_data = data[n:]\n",
    "\n",
    "# Input-Target Parallel Implementation\n",
    "def get_batch(split):\n",
    "    data = train_data if split == \"train\" else val_data\n",
    "    idx = torch.randint(len(data) - block_size, (batch_size,))\n",
    "    \n",
    "    x = torch.stack([data[i:i+block_size] for i in idx])\n",
    "    y = torch.stack([data[i+1:i+block_size+1] for i in idx])\n",
    "    x, y = x.to(device), y.to(device)\n",
    "    \n",
    "    return x, y\n",
    "\n",
    "x, y = get_batch('train')\n",
    "print(\"inputs: \")\n",
    "print(x)\n",
    "print(\"targets: \")\n",
    "print(y)"
   ]
  },
  {
   "cell_type": "code",
   "execution_count": 5,
   "metadata": {},
   "outputs": [],
   "source": [
    "@torch.no_grad()\n",
    "def estimate_loss():\n",
    "    out = {}\n",
    "    model.eval()\n",
    "    for split in ['train', 'val']:\n",
    "        losses = torch.zeros(eval_iters)\n",
    "        for k in range(eval_iters):\n",
    "            X, Y = get_batch(split)\n",
    "            logits, loss = model(X, Y)\n",
    "            losses[k] = loss.item()\n",
    "        out[split] = losses.mean()\n",
    "    model.train()\n",
    "    return out"
   ]
  },
  {
   "cell_type": "code",
   "execution_count": 6,
   "metadata": {
    "scrolled": true
   },
   "outputs": [],
   "source": [
    "class BigramLanguageModel(nn.Module):\n",
    "    def __init__(self, vocab_size):\n",
    "        super().__init__()\n",
    "        self.token_embedding_table = nn.Embedding(vocab_size, vocab_size)\n",
    "\n",
    "    def forward(self, index, targets=None):\n",
    "        logits = self.token_embedding_table(index)\n",
    "\n",
    "        if targets is None:\n",
    "            loss = None\n",
    "        else:\n",
    "            B, T, C = logits.shape\n",
    "            logits = logits.view(B * T, C)\n",
    "            targets = targets.view(B * T)\n",
    "            loss = F.cross_entropy(logits, targets)\n",
    "        \n",
    "        return logits, loss\n",
    "\n",
    "    def generate(self, idx, max_new_tokens):\n",
    "        for _ in range(max_new_tokens):\n",
    "            logits, _ = self.forward(idx)\n",
    "            # take last prediction \n",
    "            logits = logits[:, -1, :]\n",
    "            probs = F.softmax(logits, dim=-1)\n",
    "            idx_next = torch.multinomial(probs, num_samples=1)\n",
    "            idx = torch.cat((idx, idx_next), dim=1)\n",
    "        return idx\n",
    "\n",
    "model = BigramLanguageModel(vocab_size)\n",
    "m = model.to(device)"
   ]
  },
  {
   "cell_type": "code",
   "execution_count": 15,
   "metadata": {},
   "outputs": [
    {
     "name": "stdout",
     "output_type": "stream",
     "text": [
      "step: 0: train loss 2.4566, val loss 2.4991\n",
      "step: 300: train loss 2.4593, val loss 2.5097\n",
      "step: 600: train loss 2.4505, val loss 2.5124\n",
      "step: 900: train loss 2.4549, val loss 2.5087\n",
      "step: 1200: train loss 2.4551, val loss 2.5085\n",
      "step: 1500: train loss 2.4432, val loss 2.5032\n",
      "step: 1800: train loss 2.4540, val loss 2.5088\n",
      "step: 2100: train loss 2.4494, val loss 2.5093\n",
      "step: 2400: train loss 2.4530, val loss 2.5044\n",
      "step: 2700: train loss 2.4533, val loss 2.5159\n",
      "step: 3000: train loss 2.4535, val loss 2.5020\n",
      "step: 3300: train loss 2.4441, val loss 2.5129\n",
      "step: 3600: train loss 2.4580, val loss 2.5052\n",
      "step: 3900: train loss 2.4480, val loss 2.5186\n",
      "step: 4200: train loss 2.4554, val loss 2.5089\n",
      "step: 4500: train loss 2.4527, val loss 2.5135\n",
      "step: 4800: train loss 2.4572, val loss 2.5036\n",
      "step: 5100: train loss 2.4423, val loss 2.5115\n",
      "step: 5400: train loss 2.4471, val loss 2.5071\n",
      "step: 5700: train loss 2.4494, val loss 2.5070\n",
      "step: 6000: train loss 2.4465, val loss 2.5085\n",
      "step: 6300: train loss 2.4538, val loss 2.5173\n",
      "step: 6600: train loss 2.4551, val loss 2.5115\n",
      "step: 6900: train loss 2.4532, val loss 2.5078\n",
      "step: 7200: train loss 2.4529, val loss 2.5056\n",
      "step: 7500: train loss 2.4500, val loss 2.5144\n",
      "step: 7800: train loss 2.4438, val loss 2.5046\n",
      "step: 8100: train loss 2.4507, val loss 2.5067\n",
      "step: 8400: train loss 2.4462, val loss 2.5116\n",
      "step: 8700: train loss 2.4531, val loss 2.5183\n",
      "step: 9000: train loss 2.4476, val loss 2.5056\n",
      "step: 9300: train loss 2.4532, val loss 2.5046\n",
      "step: 9600: train loss 2.4403, val loss 2.5120\n",
      "step: 9900: train loss 2.4611, val loss 2.5081\n"
     ]
    }
   ],
   "source": [
    "optimizer = torch.optim.AdamW(model.parameters(), lr=learning_rate)\n",
    "\n",
    "for iter in range(max_iters):\n",
    "\n",
    "    if iter % eval_interval == 0:\n",
    "        losses = estimate_loss()\n",
    "        print(f'step: {iter}: train loss {losses['train']:.4f}, val loss {losses['val']:.4f}')\n",
    "    \n",
    "    xb, yb = get_batch('train')\n",
    "\n",
    "    logits, loss = model.forward(xb, yb)\n",
    "    optimizer.zero_grad(set_to_none=True)\n",
    "    loss.backward()\n",
    "    optimizer.step()"
   ]
  },
  {
   "cell_type": "code",
   "execution_count": 23,
   "metadata": {},
   "outputs": [
    {
     "name": "stdout",
     "output_type": "stream",
     "text": [
      "\n",
      "An'de acono I'd shthor tinowerom,\n",
      "F IN: othy mbe ans: m!\n",
      "\n",
      "\n",
      "HAy'lderthithe he aithiny,\n",
      "\n",
      "CUSofelde ppait wlors in:\n",
      "Myond ges olieneve tha-nkedugefokecor LIIClo tows, grse pangobond e izl Hero Goughile eray otho wnourit che nd pe or:\n",
      "NEThofothere ws no m.\n",
      "S:\n",
      "OMe umbin chis the s it'wad;\n",
      "Wighanyofar f ne, t? ttin t s; r!\n",
      "Lour ainghr s tirsorstepe thaulo hen h lan.\n",
      "Bis beary omoundou, he:\n",
      "\n",
      "CEST:\n",
      "NESiceaveerege fott wisuo. burts PAl ban dedlel frer ordeeastert waghene therd.\n",
      "\n",
      "MAs' bes ttteay se\n",
      "Is wne\n"
     ]
    }
   ],
   "source": [
    "# Generate the new tokens\n",
    "context = torch.zeros((1,1), dtype=torch.long, device=device)\n",
    "generated_chars = decode(m.generate(context, max_new_tokens=500)[0].tolist())\n",
    "print(generated_chars)"
   ]
  },
  {
   "cell_type": "code",
   "execution_count": null,
   "metadata": {},
   "outputs": [],
   "source": []
  }
 ],
 "metadata": {
  "kernelspec": {
   "display_name": "gpu kernel",
   "language": "python",
   "name": "gpu_kernel"
  },
  "language_info": {
   "codemirror_mode": {
    "name": "ipython",
    "version": 3
   },
   "file_extension": ".py",
   "mimetype": "text/x-python",
   "name": "python",
   "nbconvert_exporter": "python",
   "pygments_lexer": "ipython3",
   "version": "3.12.7"
  }
 },
 "nbformat": 4,
 "nbformat_minor": 4
}
